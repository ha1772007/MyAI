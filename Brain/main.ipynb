{
 "cells": [
  {
   "cell_type": "code",
   "execution_count": null,
   "metadata": {},
   "outputs": [],
   "source": []
  },
  {
   "cell_type": "code",
   "execution_count": 3,
   "metadata": {},
   "outputs": [
    {
     "name": "stdout",
     "output_type": "stream",
     "text": [
      "<class 'str'>\n",
      "llama-3-70b\n"
     ]
    }
   ],
   "source": [
    "import json\n",
    "from AiList import AIs\n",
    "AIs = AIs()\n",
    "messages = [\n",
    "        {\n",
    "            \"role\": \"user\",\n",
    "            \"content\": \"Write a short Note on Mahatma Gandhi\",\n",
    "        }\n",
    "    ]\n",
    "messages = json.dumps(messages,indent=4)\n",
    "response = AIs['Groq-llama-3-70b']['function'](messages=messages,key='',model='llama-3-70b')"
   ]
  },
  {
   "cell_type": "code",
   "execution_count": 4,
   "metadata": {},
   "outputs": [
    {
     "name": "stdout",
     "output_type": "stream",
     "text": [
      "{'output': ['Here is a short note on Mahatma Gandhi:\\n\\n**Mahatma Gandhi (1869-1948)**\\n\\nMahatma Gandhi was a Indian independence activist who played a pivotal role in India\\'s struggle for freedom from British rule. Born on October 2, 1869, in Porbandar, Gujarat, India, Gandhi was a advocate of non-violent civil disobedience, which he believed was a powerful tool for achieving social and political change.\\n\\nGandhi studied law in London and later practiced in South Africa, where he faced racial discrimination and developed his philosophy of non-violent resistance. He returned to India in 1915 and became involved in the Indian independence movement, leading several key campaigns, including the Non-Cooperation Movement and the Salt March.\\n\\nGandhi\\'s philosophy of non-violence, known as Ahimsa, emphasized the power of love, compassion, and self-discipline in bringing about social change. HisSimple living, self-sufficiency, and truthfulness were key principles of his philosophy. He also advocated for women\\'s rights, untouchability abolition, and Hindu-Muslim unity.\\n\\nGandhi was assassinated on January 30, 1948, by Nathuram Godse, a Hindu nationalist. His legacy continues to inspire movements for civil rights and freedom across the world. He is remembered as the \"Father of the Nation\" in India and is celebrated as a symbol of non-violent resistance and peaceful activism.'], 'other': {'id': 'chatcmpl-b27a574c-c45d-40e6-a6ad-df1e3bcec5b8'}}\n"
     ]
    }
   ],
   "source": [
    "print(response)"
   ]
  },
  {
   "cell_type": "markdown",
   "metadata": {},
   "source": []
  }
 ],
 "metadata": {
  "language_info": {
   "name": "python"
  }
 },
 "nbformat": 4,
 "nbformat_minor": 2
}
