{
 "cells": [
  {
   "cell_type": "code",
   "execution_count": 4,
   "metadata": {},
   "outputs": [
    {
     "name": "stdout",
     "output_type": "stream",
     "text": [
      "<class 'str'>\n",
      "llama-3-70b\n"
     ]
    }
   ],
   "source": [
    "import json\n",
    "from AiList import AIs\n",
    "AIs = AIs()\n",
    "messages = [\n",
    "        {\n",
    "            \"role\": \"user\",\n",
    "            \"content\": \"What are the different types of things that you can do\",\n",
    "        }\n",
    "    ]\n",
    "messages = json.dumps(messages,indent=4)\n",
    "response = AIs['Groq-llama-3-70b']['function'](messages,'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',model='llama-3-70b')"
   ]
  },
  {
   "cell_type": "code",
   "execution_count": 8,
   "metadata": {},
   "outputs": [
    {
     "name": "stdout",
     "output_type": "stream",
     "text": [
      "What a broad and exciting question! As a conversational AI, I can engage in a wide range of activities with you. Here are some examples of different types of things we can do together:\n",
      "\n",
      "**Conversational Games**\n",
      "\n",
      "1. 20 Questions: I'll think of an object, and you try to guess what it is by asking me up to 20 yes-or-no questions.\n",
      "2. Hangman: I'll think of a word or phrase, and you try to guess it by guessing letters.\n",
      "3. Word Chain: We take turns saying a word that starts with the last letter of the previous word.\n",
      "4. Would You Rather: I'll give you two options, and you choose which one you prefer.\n",
      "5. Two Truths and a Lie: I'll tell you three statements, two of which are true, and one of which is false. You try to guess which one is the lie.\n",
      "\n",
      "**Creative Writing and Storytelling**\n",
      "\n",
      "1. Interactive Storytelling: I'll start telling a story, and you can take over at any time by giving me a prompt or suggestion.\n",
      "2. Writing Prompts: I'll give you a prompt, and you can write a short story or poem in response.\n",
      "3. Role-Playing: We can take on roles and improvise a scene or story together.\n",
      "\n",
      "**Learning and Education**\n",
      "\n",
      "1. Q&A Sessions: Ask me any questions you have on a particular topic, and I'll do my best to answer them.\n",
      "2. Trivia: I'll ask you trivia questions on a variety of subjects, and you try to answer them correctly.\n",
      "3. Language Learning: If you're learning a new language, I can help you practice conversing in that language.\n",
      "\n",
      "**Problem-Solving and Brain Teasers**\n",
      "\n",
      "1. Logic Puzzles: I'll give you a logic puzzle to solve, such as Sudoku or logic grids.\n",
      "2. Riddles: I'll give you a riddle to solve, and you try to figure out the answer.\n",
      "3. Math Problems: If you're struggling with a math concept or need help with a specific problem, I can assist you.\n",
      "\n",
      "**Chat and Conversation**\n",
      "\n",
      "1. Small Talk: We can have a casual conversation about your day, interests, or hobbies.\n",
      "2. Debate: We can engage in a respectful discussion on a topic you're passionate about.\n",
      "3. Jokes and Humor: We can share jokes and funny stories with each other.\n",
      "\n",
      "**Other Activities**\n",
      "\n",
      "1. Generate Text: I can generate text based on a prompt or topic, which can be useful for inspiration or ideas.\n",
      "2. Summarize Text: If you have a long piece of text and want to understand the main points, I can summarize it for you.\n",
      "3. Translate Text: If you need to translate text from one language to another, I can help with that.\n",
      "\n",
      "These are just a few examples of the many things we can do together. If there's something specific you're interested in, feel free to let me know, and I'll do my best to accommodate your request!\n"
     ]
    }
   ],
   "source": [
    "print(response['output'][0])"
   ]
  }
 ],
 "metadata": {
  "language_info": {
   "name": "python"
  }
 },
 "nbformat": 4,
 "nbformat_minor": 2
}
