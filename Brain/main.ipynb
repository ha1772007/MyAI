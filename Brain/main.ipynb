{
 "cells": [
  {
   "cell_type": "code",
   "execution_count": 1,
   "metadata": {},
   "outputs": [
    {
     "name": "stdout",
     "output_type": "stream",
     "text": [
      "<class 'str'>\n",
      "llama-3-70b\n"
     ]
    }
   ],
   "source": [
    "import json\n",
    "from AiList import AIs\n",
    "AIs = AIs()\n",
    "messages = [\n",
    "        {\n",
    "            \"role\": \"user\",\n",
    "            \"content\": \"What are the different types of things that you can do\",\n",
    "        }\n",
    "    ]\n",
    "messages = json.dumps(messages,indent=4)\n",
    "response = AIs['Groq-llama-3-70b']['function'](messages,'olla',model='llama-3-70b')"
   ]
  },
  {
   "cell_type": "code",
   "execution_count": 11,
   "metadata": {},
   "outputs": [
    {
     "name": "stdout",
     "output_type": "stream",
     "text": [
      "{\n",
      "    \"error\": {\n",
      "        \"message\": \"Invalid API Key\",\n",
      "        \"type\": \"invalid_request_error\",\n",
      "        \"code\": \"invalid_api_key\"\n",
      "    }\n",
      "}\n"
     ]
    }
   ],
   "source": [
    "print(json.dumps(json.loads(str(response).split(' - ')[1].replace(\"'\",'\"')),indent=4))"
   ]
  }
 ],
 "metadata": {
  "language_info": {
   "name": "python"
  }
 },
 "nbformat": 4,
 "nbformat_minor": 2
}
